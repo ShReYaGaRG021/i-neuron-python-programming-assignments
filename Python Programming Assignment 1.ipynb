{
 "cells": [
  {
   "cell_type": "code",
   "execution_count": 2,
   "metadata": {},
   "outputs": [
    {
     "name": "stdout",
     "output_type": "stream",
     "text": [
      "Hello Python\n"
     ]
    }
   ],
   "source": [
    "#Question 1\n",
    "def hello():\n",
    "    print(\"Hello Python\")\n",
    "    \n",
    "hello()    "
   ]
  },
  {
   "cell_type": "code",
   "execution_count": 48,
   "metadata": {},
   "outputs": [
    {
     "name": "stdout",
     "output_type": "stream",
     "text": [
      "Enter 1st number: 59\n",
      "Enter 2nd number: 6\n",
      "The sum of the numbers is:  65\n",
      "The answer after division will be:  9.833333333333334\n"
     ]
    }
   ],
   "source": [
    "#Question 2\n",
    "a = int(input(\"Enter 1st number: \"))\n",
    "b = int(input(\"Enter 2nd number: \"))\n",
    "def arith_ops(a,b):\n",
    "    print(\"The sum of the numbers is: \",a+b)\n",
    "    print(\"The answer after division will be: \",a/b)\n",
    "    \n",
    "arith_ops(a,b)    "
   ]
  },
  {
   "cell_type": "code",
   "execution_count": 12,
   "metadata": {},
   "outputs": [
    {
     "name": "stdout",
     "output_type": "stream",
     "text": [
      "Enter the base of the triangle: 14\n",
      "enter the height of the triangle: 5\n",
      "The area of the triangle is:  35.0\n"
     ]
    }
   ],
   "source": [
    "#Question 3\n",
    "# area of triangle\n",
    "a = int(input(\"Enter the base of the triangle: \"))\n",
    "b = int(input(\"enter the height of the triangle: \"))\n",
    "def triangle_area(a,b):\n",
    "    print(\"The area of the triangle is: \",0.5*a*b)\n",
    "    \n",
    "triangle_area(a,b)    "
   ]
  },
  {
   "cell_type": "code",
   "execution_count": 30,
   "metadata": {},
   "outputs": [
    {
     "name": "stdout",
     "output_type": "stream",
     "text": [
      "Enter the value of x: 67\n",
      "Enter the value of y: 23\n",
      "The swapped values of x: 23\n",
      "The swapped values of y: 67\n"
     ]
    }
   ],
   "source": [
    "#Question 4\n",
    "# to swap 2 values\n",
    "x = int(input(\"Enter the value of x: \"))\n",
    "y = int(input(\"Enter the value of y: \"))\n",
    "def swap(x,y):\n",
    "    (x,y)=(y,x)\n",
    "    print(\"The swapped values of x:\", x)\n",
    "    print(\"The swapped values of y:\", y)\n",
    "    \n",
    "swap(x,y)    "
   ]
  },
  {
   "cell_type": "code",
   "execution_count": 43,
   "metadata": {},
   "outputs": [
    {
     "name": "stdout",
     "output_type": "stream",
     "text": [
      "0.6608340850620259\n",
      "32\n"
     ]
    }
   ],
   "source": [
    "#Question 5\n",
    "# to generate random number\n",
    "import random  \n",
    "n = random.random()  \n",
    "print(n)\n",
    "# to generate random number within a range\n",
    "import random\n",
    "n = random.randint(0,100)\n",
    "print(n)"
   ]
  },
  {
   "cell_type": "code",
   "execution_count": null,
   "metadata": {},
   "outputs": [],
   "source": []
  }
 ],
 "metadata": {
  "kernelspec": {
   "display_name": "Python 3",
   "language": "python",
   "name": "python3"
  },
  "language_info": {
   "codemirror_mode": {
    "name": "ipython",
    "version": 3
   },
   "file_extension": ".py",
   "mimetype": "text/x-python",
   "name": "python",
   "nbconvert_exporter": "python",
   "pygments_lexer": "ipython3",
   "version": "3.8.3"
  }
 },
 "nbformat": 4,
 "nbformat_minor": 4
}

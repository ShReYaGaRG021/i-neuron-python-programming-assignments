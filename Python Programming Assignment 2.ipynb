{
 "cells": [
  {
   "cell_type": "code",
   "execution_count": 1,
   "metadata": {},
   "outputs": [
    {
     "name": "stdout",
     "output_type": "stream",
     "text": [
      "Enter the value in kilometers: 8\n",
      "The value in miles is:  4.97096952\n"
     ]
    }
   ],
   "source": [
    "#Question 1\n",
    "# kilometers to miles\n",
    "a=int(input(\"Enter the value in kilometers: \"))\n",
    "def km_to_miles():\n",
    "    miles = a*0.62137119\n",
    "    print(\"The value in miles is: \",miles)\n",
    "    \n",
    "km_to_miles()    "
   ]
  },
  {
   "cell_type": "code",
   "execution_count": 2,
   "metadata": {},
   "outputs": [
    {
     "name": "stdout",
     "output_type": "stream",
     "text": [
      "Enter the value in Celsius: 38\n",
      "The value in fahrenheit is:  100.4\n"
     ]
    }
   ],
   "source": [
    "#Question 2\n",
    "# celcius to fahrenheit\n",
    "b=int(input(\"Enter the value in Celsius: \"))\n",
    "def celsius_to_fahrenheit():\n",
    "    fahrenheit = ((9/5)*b + 32)\n",
    "    print(\"The value in fahrenheit is: \",fahrenheit)\n",
    "    \n",
    "celsius_to_fahrenheit()    "
   ]
  },
  {
   "cell_type": "code",
   "execution_count": 3,
   "metadata": {},
   "outputs": [
    {
     "name": "stdout",
     "output_type": "stream",
     "text": [
      "Enter year: 2022\n",
      "Enter month: 6\n",
      "     June 2022\n",
      "Mo Tu We Th Fr Sa Su\n",
      "       1  2  3  4  5\n",
      " 6  7  8  9 10 11 12\n",
      "13 14 15 16 17 18 19\n",
      "20 21 22 23 24 25 26\n",
      "27 28 29 30\n",
      "\n"
     ]
    }
   ],
   "source": [
    "#Question 3\n",
    "# to display calender\n",
    "import calendar\n",
    "yy = int(input(\"Enter year: \"))\n",
    "mm = int(input(\"Enter month: \"))\n",
    "print(calendar.month(yy, mm))"
   ]
  },
  {
   "cell_type": "code",
   "execution_count": 6,
   "metadata": {},
   "outputs": [
    {
     "name": "stdout",
     "output_type": "stream",
     "text": [
      "Enter the coefficient of x**2: 3\n",
      "Enter the coefficient of x: 6\n",
      "Enter the value of the constant term: 2\n",
      "The roots of the quadratic equation are:  (-1.5773502691896255+0j) and (-0.42264973081037427+0j)\n"
     ]
    }
   ],
   "source": [
    "#Question 4\n",
    "# Roots of a quadratic equation\n",
    "import cmath\n",
    "a=int(input(\"Enter the coefficient of x**2: \"))\n",
    "b=int(input(\"Enter the coefficient of x: \"))\n",
    "c=int(input(\"Enter the value of the constant term: \"))\n",
    "#calculating the discriminant \n",
    "d=(b**2 - (4*a*c))\n",
    "#solving for the roots of quadratic equation\n",
    "root1 = (-b-cmath.sqrt(d))/(2*a)\n",
    "root2 = (-b+cmath.sqrt(d))/(2*a)\n",
    "\n",
    "print(\"The roots of the quadratic equation are: \",root1, \"and\" ,root2)"
   ]
  },
  {
   "cell_type": "code",
   "execution_count": 7,
   "metadata": {},
   "outputs": [
    {
     "name": "stdout",
     "output_type": "stream",
     "text": [
      "Enter the value of x: 57\n",
      "Enter the value of y: 21\n",
      "The swapped values of x: 21\n",
      "The swapped values of y: 57\n"
     ]
    }
   ],
   "source": [
    "#Question 5\n",
    "# to swap 2 values\n",
    "x = int(input(\"Enter the value of x: \"))\n",
    "y = int(input(\"Enter the value of y: \"))\n",
    "def swap(x,y):\n",
    "    (x,y)=(y,x)\n",
    "    print(\"The swapped values of x:\", x)\n",
    "    print(\"The swapped values of y:\", y)\n",
    "    \n",
    "swap(x,y)  "
   ]
  },
  {
   "cell_type": "code",
   "execution_count": null,
   "metadata": {},
   "outputs": [],
   "source": []
  }
 ],
 "metadata": {
  "kernelspec": {
   "display_name": "Python 3",
   "language": "python",
   "name": "python3"
  },
  "language_info": {
   "codemirror_mode": {
    "name": "ipython",
    "version": 3
   },
   "file_extension": ".py",
   "mimetype": "text/x-python",
   "name": "python",
   "nbconvert_exporter": "python",
   "pygments_lexer": "ipython3",
   "version": "3.8.3"
  }
 },
 "nbformat": 4,
 "nbformat_minor": 4
}
